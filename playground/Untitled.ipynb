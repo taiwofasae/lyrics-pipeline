{
 "cells": [
  {
   "cell_type": "code",
   "execution_count": 115,
   "id": "9b459805-f1b2-4446-837f-fac11157431e",
   "metadata": {},
   "outputs": [
    {
     "name": "stdout",
     "output_type": "stream",
     "text": [
      "['a', 'b', 'c', 'd', 'e', 'f', 'g', 'h', 'i', 'j', 'k', 'l', 'm', 'n', 'o', 'p', 'q', 'r', 's', 't', 'u', 'v', 'w', 'x', 'y', 'z', '19']\n",
      "Could not insert index a into indexes table of db.\n",
      "Could not insert index b into indexes table of db.\n",
      "Could not insert index c into indexes table of db.\n",
      "Could not insert index d into indexes table of db.\n",
      "Could not insert index e into indexes table of db.\n",
      "Could not insert index f into indexes table of db.\n",
      "Could not insert index g into indexes table of db.\n",
      "Could not insert index h into indexes table of db.\n",
      "Could not insert index i into indexes table of db.\n",
      "Could not insert index j into indexes table of db.\n",
      "Could not insert index k into indexes table of db.\n",
      "Could not insert index l into indexes table of db.\n",
      "Could not insert index m into indexes table of db.\n",
      "Could not insert index n into indexes table of db.\n",
      "Could not insert index o into indexes table of db.\n",
      "Could not insert index p into indexes table of db.\n",
      "Could not insert index q into indexes table of db.\n",
      "Could not insert index r into indexes table of db.\n",
      "Could not insert index s into indexes table of db.\n",
      "Could not insert index t into indexes table of db.\n",
      "Could not insert index u into indexes table of db.\n",
      "Could not insert index v into indexes table of db.\n",
      "Could not insert index w into indexes table of db.\n",
      "Could not insert index x into indexes table of db.\n",
      "Could not insert index y into indexes table of db.\n",
      "Could not insert index z into indexes table of db.\n",
      "Could not insert index 19 into indexes table of db.\n"
     ]
    }
   ],
   "source": [
    "!python ..\\source\\azlyrics\\download_indexes.py --filepath \"..\\data\\azlyrics\\indexes.txt\" --metadatadb \"..\\source\\azlyrics\\meta.db\""
   ]
  },
  {
   "cell_type": "code",
   "execution_count": 121,
   "id": "6daf222a-f444-4bcc-9458-4f07c437e0e8",
   "metadata": {},
   "outputs": [],
   "source": [
    "!python ..\\source\\azlyrics\\download_artists.py --metadatadb \"..\\source\\azlyrics\\meta.db\" --folderpath=\"..\\data\\azlyrics\""
   ]
  },
  {
   "cell_type": "code",
   "execution_count": 132,
   "id": "e56168f9-9529-4185-99c4-afa7b2b31b3c",
   "metadata": {},
   "outputs": [],
   "source": [
    "!python ..\\source\\azlyrics\\download_songs.py --metadatadb \"..\\source\\azlyrics\\meta.db\" --artist 'taylorswift' --filepath=\"..\\data\\azlyrics\\taylorswift.txt\""
   ]
  },
  {
   "cell_type": "code",
   "execution_count": null,
   "id": "fc1e4319-51af-49f6-aa3d-6889ad19b9f0",
   "metadata": {},
   "outputs": [],
   "source": [
    "!python ..\\source\\azlyrics\\download_lyrics.py --metadatadb \"..\\source\\azlyrics\\meta.db\" --artist 'taylorswift' --song 'Same Girl' --filepath=\"..\\data\\azlyrics\\taylorswift.txt\""
   ]
  },
  {
   "cell_type": "code",
   "execution_count": 130,
   "id": "1718c2d5-c43b-4c81-83cc-4ea4c7552aa8",
   "metadata": {},
   "outputs": [
    {
     "name": "stdout",
     "output_type": "stream",
     "text": [
      "[('indexes',), ('artists',), ('songs',)]\n"
     ]
    }
   ],
   "source": [
    "import sqlite3\n",
    "\n",
    "con = sqlite3.connect(\"..\\\\source\\\\azlyrics\\\\meta.db\")\n",
    "cursor = con.cursor()\n",
    "cursor.execute(\"SELECT name FROM sqlite_master WHERE type='table';\")\n",
    "print(cursor.fetchall())\n",
    "con.close()"
   ]
  },
  {
   "cell_type": "code",
   "execution_count": 140,
   "id": "24e0a472-e1ed-4b64-8fec-8e23d6a5e102",
   "metadata": {},
   "outputs": [
    {
     "name": "stdout",
     "output_type": "stream",
     "text": [
      "[('a',), ('b',), ('c',), ('d',), ('e',), ('f',), ('g',), ('h',), ('i',), ('j',), ('k',), ('l',), ('m',), ('n',), ('o',), ('p',), ('q',), ('r',), ('s',), ('t',), ('u',), ('v',), ('w',), ('x',), ('y',), ('z',), ('19',)]\n"
     ]
    }
   ],
   "source": [
    "import sqlite3\n",
    "\n",
    "con = sqlite3.connect(\"..\\\\source\\\\azlyrics\\\\meta.db\")\n",
    "cursor = con.cursor()\n",
    "cursor.execute(\"SELECT letter FROM indexes WHERE status!='done';\")\n",
    "print(cursor.fetchall())\n",
    "con.close()"
   ]
  },
  {
   "cell_type": "code",
   "execution_count": null,
   "id": "50f8abbc-0fb5-4228-9fe2-e83045bbe06c",
   "metadata": {},
   "outputs": [],
   "source": [
    "con = sqlite3.connect(\"..\\\\source\\\\azlyrics\\\\meta.db\")\n",
    "cursor = con.cursor()\n",
    "cursor.execute(\"SELECT * FROM songs;\")\n",
    "print(cursor.fetchall())\n",
    "con.close()"
   ]
  },
  {
   "cell_type": "code",
   "execution_count": null,
   "id": "1805b793-c7c5-4da6-bcc5-000f457cd382",
   "metadata": {},
   "outputs": [],
   "source": [
    "# scripts\n"
   ]
  }
 ],
 "metadata": {
  "kernelspec": {
   "display_name": "Python 3 (ipykernel)",
   "language": "python",
   "name": "python3"
  },
  "language_info": {
   "codemirror_mode": {
    "name": "ipython",
    "version": 3
   },
   "file_extension": ".py",
   "mimetype": "text/x-python",
   "name": "python",
   "nbconvert_exporter": "python",
   "pygments_lexer": "ipython3",
   "version": "3.10.11"
  }
 },
 "nbformat": 4,
 "nbformat_minor": 5
}
